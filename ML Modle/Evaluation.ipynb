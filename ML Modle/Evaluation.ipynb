{
 "cells": [
  {
   "cell_type": "code",
   "execution_count": 62,
   "id": "b290ae11",
   "metadata": {},
   "outputs": [],
   "source": [
    "from transformers import T5ForConditionalGeneration, T5Tokenizer\n",
    "from flask import request, jsonify\n",
    "from pytesseract import pytesseract\n",
    "from sklearn.metrics import confusion_matrix, accuracy_score, precision_score, recall_score, f1_score\n",
    "import pandas as pd\n",
    "from sklearn.model_selection import train_test_split"
   ]
  },
  {
   "cell_type": "code",
   "execution_count": 63,
   "id": "fe88c008",
   "metadata": {},
   "outputs": [],
   "source": [
    "# Define the path to the T5 model\n",
    "model_path = r'D:\\Personal\\Edu\\OCR-Expresso\\t5_gec_model' "
   ]
  },
  {
   "cell_type": "code",
   "execution_count": 64,
   "id": "94fd52f3",
   "metadata": {},
   "outputs": [],
   "source": [
    "# Load the pre-trained T5 model and tokenizer\n",
    "loaded_model = T5ForConditionalGeneration.from_pretrained(model_path)\n",
    "tokenizer = T5Tokenizer.from_pretrained(model_path)"
   ]
  },
  {
   "cell_type": "code",
   "execution_count": 67,
   "id": "1459da58",
   "metadata": {},
   "outputs": [],
   "source": [
    "def grammar_corrector(input_text, num_return_sequences):\n",
    "    # Tokenize the input text\n",
    "    batch = tokenizer([input_text], truncation=True, padding='max_length', max_length=64, return_tensors=\"pt\")\n",
    "    \n",
    "    # Generate corrected text using the loaded model\n",
    "    translated = loaded_model.generate(**batch, max_length=64, num_beams=4, num_return_sequences=num_return_sequences, temperature=1.5)\n",
    "    \n",
    "    # Decode the generated text\n",
    "    tgt_text = tokenizer.batch_decode(translated, skip_special_tokens=True)\n",
    "    \n",
    "    # Join the list of strings into a single string\n",
    "    result_string = ' '.join(tgt_text)\n",
    "    \n",
    "    return result_string "
   ]
  },
  {
   "cell_type": "code",
   "execution_count": 68,
   "id": "87c40fa5",
   "metadata": {},
   "outputs": [
    {
     "data": {
      "text/plain": [
       "(550000, 2)"
      ]
     },
     "execution_count": 68,
     "metadata": {},
     "output_type": "execute_result"
    }
   ],
   "source": [
    "df = pd.read_csv('D:/Personal/Edu/Study/FYP/NLP/data_set/c4_200m_550k.csv')\n",
    "df.shape"
   ]
  },
  {
   "cell_type": "code",
   "execution_count": 75,
   "id": "a48e7fca",
   "metadata": {},
   "outputs": [
    {
     "data": {
      "text/plain": [
       "((549450, 2), (550, 2))"
      ]
     },
     "execution_count": 75,
     "metadata": {},
     "output_type": "execute_result"
    }
   ],
   "source": [
    "train_df, test_df = train_test_split(df, test_size=0.1, shuffle=False)\n",
    "train_df.shape, test_df.shape"
   ]
  },
  {
   "cell_type": "code",
   "execution_count": 76,
   "id": "9dd83a9f",
   "metadata": {},
   "outputs": [],
   "source": [
    "def evaluate_model(model, tokenizer, dataset):\n",
    "    # Initialize lists to store predictions and ground truth labels\n",
    "    all_predictions = []\n",
    "    all_labels = []\n",
    "\n",
    "    # Iterate through the dataset\n",
    "    for example in dataset:\n",
    "        # Extract input text\n",
    "        input_text = example['input']\n",
    "        \n",
    "        # Generate prediction using the model\n",
    "        prediction = grammar_corrector(input_text, num_return_sequences=1)\n",
    "        #print(prediction)\n",
    "        # Extract ground truth label\n",
    "        ground_truth = example['output']\n",
    "        \n",
    "        # Append prediction and ground truth to the respective lists\n",
    "        all_predictions.append(prediction)\n",
    "        all_labels.append(ground_truth)\n",
    "    \n",
    "    # Compute confusion matrix\n",
    "    cm = confusion_matrix(all_labels, all_predictions)\n",
    "    \n",
    "    # Compute accuracy\n",
    "    accuracy = accuracy_score(all_labels, all_predictions)\n",
    "    \n",
    "    # Compute precision\n",
    "    precision = precision_score(all_labels, all_predictions, average='weighted')\n",
    "    \n",
    "    # Compute recall\n",
    "    recall = recall_score(all_labels, all_predictions, average='weighted')\n",
    "    \n",
    "    # Compute F1 score\n",
    "    f1 = f1_score(all_labels, all_predictions, average='weighted')\n",
    "    \n",
    "    return cm, accuracy, precision, recall, f1"
   ]
  },
  {
   "cell_type": "code",
   "execution_count": 77,
   "id": "b40a1de7",
   "metadata": {},
   "outputs": [],
   "source": [
    "test_data = test_df.to_dict(orient='records')"
   ]
  },
  {
   "cell_type": "code",
   "execution_count": null,
   "id": "5336fdff",
   "metadata": {},
   "outputs": [
    {
     "name": "stderr",
     "output_type": "stream",
     "text": [
      "C:\\Users\\PradeepWijayawickram\\anaconda3\\Lib\\site-packages\\transformers\\generation\\configuration_utils.py:362: UserWarning: `do_sample` is set to `False`. However, `temperature` is set to `1.5` -- this flag is only used in sample-based generation modes. You should set `do_sample=True` or unset `temperature`.\n",
      "  warnings.warn(\n"
     ]
    }
   ],
   "source": [
    "conf_matrix, accuracy, precision, recall, f1 = evaluate_model(loaded_model, tokenizer, test_data)"
   ]
  },
  {
   "cell_type": "code",
   "execution_count": 56,
   "id": "0c5e7637",
   "metadata": {},
   "outputs": [
    {
     "name": "stdout",
     "output_type": "stream",
     "text": [
      "Confusion Matrix:\n",
      "[[0 0 0 ... 0 0 0]\n",
      " [0 0 0 ... 0 0 0]\n",
      " [0 1 0 ... 0 0 0]\n",
      " ...\n",
      " [0 0 0 ... 0 0 0]\n",
      " [0 0 0 ... 0 0 1]\n",
      " [0 0 0 ... 0 0 0]]\n",
      "Accuracy: 0.11454545454545455\n",
      "Precision: 0.11454545454545455\n",
      "Recall: 0.11454545454545455\n",
      "F1 Score: 0.11454545454545455\n"
     ]
    }
   ],
   "source": [
    "print(\"Confusion Matrix:\")\n",
    "print(conf_matrix)\n",
    "print(\"Accuracy:\", accuracy)\n",
    "print(\"Precision:\", precision)\n",
    "print(\"Recall:\", recall)\n",
    "print(\"F1 Score:\", f1)"
   ]
  },
  {
   "cell_type": "code",
   "execution_count": null,
   "id": "4f85b3cf",
   "metadata": {},
   "outputs": [],
   "source": []
  }
 ],
 "metadata": {
  "kernelspec": {
   "display_name": "Python 3 (ipykernel)",
   "language": "python",
   "name": "python3"
  },
  "language_info": {
   "codemirror_mode": {
    "name": "ipython",
    "version": 3
   },
   "file_extension": ".py",
   "mimetype": "text/x-python",
   "name": "python",
   "nbconvert_exporter": "python",
   "pygments_lexer": "ipython3",
   "version": "3.11.5"
  }
 },
 "nbformat": 4,
 "nbformat_minor": 5
}
